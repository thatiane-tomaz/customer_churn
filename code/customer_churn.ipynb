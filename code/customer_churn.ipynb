{
 "cells": [
  {
   "cell_type": "markdown",
   "metadata": {},
   "source": [
    "# Customer Churn Prediction\n",
    "\n",
    "\n",
    "This script is for Customer Churn Prediction, comparing the results of Random Forest Classifier, Logistic Regression and Gradient Boosting with different hyperparameter values."
   ]
  },
  {
   "cell_type": "code",
   "execution_count": 1,
   "metadata": {
    "ExecuteTime": {
     "end_time": "2021-03-28T16:41:00.487871Z",
     "start_time": "2021-03-28T16:40:55.078927Z"
    }
   },
   "outputs": [],
   "source": [
    "##### Inicial configuration\n",
    "\n",
    "# importing libraries\n",
    "\n",
    "import pandas as pd\n",
    "import numpy as np\n",
    "import matplotlib.pyplot as plt\n",
    "from sklearn.model_selection import train_test_split\n",
    "from sklearn.preprocessing import OneHotEncoder\n",
    "from sklearn.pipeline import Pipeline\n",
    "from sklearn import metrics\n",
    "from sklearn.metrics import accuracy_score\n",
    "from sklearn.metrics import confusion_matrix\n",
    "from sklearn.metrics import classification_report\n",
    "from sklearn.utils import resample\n",
    "from sklearn.ensemble import RandomForestClassifier\n",
    "from sklearn.linear_model import LogisticRegression\n",
    "from sklearn.ensemble import GradientBoostingClassifier\n",
    "from sklearn.decomposition import PCA\n",
    "from sklearn.model_selection import GridSearchCV \n",
    "import category_encoders as ce\n",
    "\n",
    "import warnings\n",
    "warnings.filterwarnings('ignore')\n",
    "\n",
    "%matplotlib inline\n",
    "\n",
    "# Display configuration\n",
    "\n",
    "pd.set_option('display.max_columns', 200)\n",
    "pd.set_option('display.max_rows', 100)\n",
    "pd.set_option('display.min_rows', 100)\n",
    "pd.set_option('display.expand_frame_repr', False)\n",
    "pd.options.display.float_format = '{:20,.2f}'.format"
   ]
  },
  {
   "cell_type": "markdown",
   "metadata": {},
   "source": [
    "## Preprocessing Data"
   ]
  },
  {
   "cell_type": "code",
   "execution_count": 33,
   "metadata": {
    "ExecuteTime": {
     "end_time": "2021-03-28T17:06:59.888467Z",
     "start_time": "2021-03-28T17:06:59.866525Z"
    }
   },
   "outputs": [],
   "source": [
    "# Reading Data\n",
    "\n",
    "base_url = 'https://github.com/thatiane-tomaz/customer_churn_pred/tree/main/data/churn_modelling.csv'\n",
    "df = pd.read_csv(base_url)\n"
   ]
  },
  {
   "cell_type": "code",
   "execution_count": 34,
   "metadata": {
    "ExecuteTime": {
     "end_time": "2021-03-28T17:07:00.550480Z",
     "start_time": "2021-03-28T17:07:00.535521Z"
    }
   },
   "outputs": [
    {
     "data": {
      "text/plain": [
       "RowNumber          0\n",
       "CustomerId         0\n",
       "Surname            0\n",
       "CreditScore        0\n",
       "Geography          0\n",
       "Gender             0\n",
       "Age                0\n",
       "Tenure             0\n",
       "Balance            0\n",
       "NumOfProducts      0\n",
       "HasCrCard          0\n",
       "IsActiveMember     0\n",
       "EstimatedSalary    0\n",
       "Exited             0\n",
       "dtype: int64"
      ]
     },
     "execution_count": 34,
     "metadata": {},
     "output_type": "execute_result"
    }
   ],
   "source": [
    "# Checking for missing data\n",
    "\n",
    "df.isna().sum()"
   ]
  },
  {
   "cell_type": "code",
   "execution_count": 36,
   "metadata": {
    "ExecuteTime": {
     "end_time": "2021-03-28T17:07:01.620001Z",
     "start_time": "2021-03-28T17:07:01.596064Z"
    }
   },
   "outputs": [],
   "source": [
    "# Preprocessing and Feature Engineering\n",
    "\n",
    "# Drop unwanted columns\n",
    "df = df.drop(['RowNumber', 'CustomerId', 'Surname'], axis=1)\n",
    "\n",
    "# Defining Categorical Variables\n",
    "cat_vars = ['Geography', 'Gender']\n",
    "\n",
    "# Creating squared Estimate Salary ans Balance\n",
    "df['EstimatedSalary2'] = df['EstimatedSalary']**2\n",
    "df['Balance2'] = df['Balance']**2"
   ]
  },
  {
   "cell_type": "markdown",
   "metadata": {},
   "source": [
    "## Classification Model"
   ]
  },
  {
   "cell_type": "code",
   "execution_count": 37,
   "metadata": {
    "ExecuteTime": {
     "end_time": "2021-03-28T17:07:04.838107Z",
     "start_time": "2021-03-28T17:07:04.782259Z"
    }
   },
   "outputs": [],
   "source": [
    "# Defining features, labels and tain/test datasets\n",
    "\n",
    "X = df.drop(['Exited', 'bin_age', 'bin_income', 'bin_balance'], axis=1)\n",
    "\n",
    "onehot_enc = ce.OneHotEncoder(use_cat_names = True, handle_unknown = 'ignore').fit(X[cat_vars])\n",
    "onehot_vars = onehot_enc.transform(X[cat_vars])\n",
    "    \n",
    "X = X.drop(cat_vars, axis=1)\n",
    "X = pd.concat([X, onehot_vars], axis = 1)\n",
    "\n",
    "y = df['Exited']\n",
    "\n",
    "X_train, X_test, y_train, y_test = train_test_split(X, y, test_size=0.3, random_state=42)"
   ]
  },
  {
   "cell_type": "code",
   "execution_count": 38,
   "metadata": {
    "ExecuteTime": {
     "end_time": "2021-03-28T19:51:22.913084Z",
     "start_time": "2021-03-28T17:07:08.129542Z"
    }
   },
   "outputs": [
    {
     "name": "stdout",
     "output_type": "stream",
     "text": [
      "Performing model optimizations...\n",
      "\n",
      "Estimator: RandomForest\n",
      "Best params: {'pca__n_components': 12, 'rf_classifier__max_depth': 80, 'rf_classifier__min_samples_leaf': 3, 'rf_classifier__min_samples_split': 10}\n",
      "Test set accuracy score for best params: 0.870 \n",
      "\n",
      "Estimator: LogisticRegression\n",
      "Best params: {'lr_classifier__C': 0.0001, 'lr_classifier__penalty': 'l2', 'pca__n_components': 6}\n",
      "Test set accuracy score for best params: 0.548 \n",
      "\n",
      "Estimator: GradientBoosting\n",
      "Best params: {'gb_classifier__max_depth': 40, 'gb_classifier__min_samples_leaf': 5, 'gb_classifier__min_samples_split': 10, 'pca__n_components': 12}\n",
      "Test set accuracy score for best params: 0.865 \n",
      "\n",
      "Classifier with best test set accuracy: RandomForest\n"
     ]
    }
   ],
   "source": [
    "# Checking best model and hyperparameters\n",
    "\n",
    "pipe_rf = Pipeline([('pca', PCA()),\n",
    "                    ('rf_classifier', RandomForestClassifier())])\n",
    "\n",
    "pipe_lr = Pipeline([('pca', PCA()),\n",
    "                    ('lr_classifier', LogisticRegression(random_state = 0))])\n",
    "\n",
    "pipe_gb = Pipeline([('pca', PCA()),\n",
    "                    ('gb_classifier', GradientBoostingClassifier())])\n",
    "\n",
    "# Set grid search params\n",
    "pca_comp = [6, 8, 10, 12]\n",
    "\n",
    "param_grid_rf = {\n",
    "    'pca__n_components': pca_comp,\n",
    "    'rf_classifier__max_depth': [20, 40, 60, 80],\n",
    "    'rf_classifier__min_samples_leaf': [3, 4, 5],\n",
    "    'rf_classifier__min_samples_split': [8, 10, 12],\n",
    "}\n",
    "\n",
    "param_grid_lr = {\n",
    "    'pca__n_components': pca_comp,\n",
    "    'lr_classifier__penalty' : ['l1', 'l2'],\n",
    "    'lr_classifier__C' : np.logspace(-4, 4, 20),\n",
    "}\n",
    "\n",
    "param_grid_gb = {\n",
    "    'pca__n_components': pca_comp,\n",
    "    'gb_classifier__max_depth': [20, 40, 60, 80],\n",
    "    'gb_classifier__min_samples_leaf': [3, 4, 5],\n",
    "    'gb_classifier__min_samples_split': [8, 10, 12],\n",
    "}\n",
    "\n",
    "# Constructing grid searches\n",
    "jobs = -1\n",
    "\n",
    "gs_rf = GridSearchCV(estimator=pipe_rf,param_grid=param_grid_rf,scoring='accuracy',cv=5) \n",
    "\n",
    "gs_lr = GridSearchCV(estimator=pipe_lr,param_grid=param_grid_lr,scoring='accuracy',cv=5) \n",
    "\n",
    "gs_gb = GridSearchCV(estimator=pipe_gb,param_grid=param_grid_gb,scoring='accuracy',cv=5) \n",
    "\n",
    "\n",
    "# List of pipelines for ease of iteration\n",
    "grids = [gs_rf, gs_lr, gs_gb]\n",
    "\n",
    "# Dictionary of pipelines and classifier types for ease of reference\n",
    "grid_dict = {0: 'RandomForest', 1:'LogisticRegression', 2:'GradientBoosting'}\n",
    "\n",
    "# Fit the grid search objects\n",
    "\n",
    "print('Performing model optimizations...')\n",
    "best_accuracy = 0\n",
    "best_classifier = 0\n",
    "for i, gs in enumerate(grids):\n",
    "    print('\\nEstimator: %s' % grid_dict[i])\n",
    "    # Fit \n",
    "    gs.fit(X_train, y_train)\n",
    "    # Best params\n",
    "    print('Best params: %s' % gs.best_params_)\n",
    "    # Predict on test data with best params\n",
    "    y_pred = gs.predict(X_test)\n",
    "    # Test data accuracy of model with best params\n",
    "    print('Test set accuracy score for best params: %.3f ' % accuracy_score(y_test, y_pred))\n",
    "    # Track best (highest test accuracy) model\n",
    "    if accuracy_score(y_test, y_pred) > best_accuracy:\n",
    "        best_accuracy = accuracy_score(y_test, y_pred)\n",
    "        best_classifier = i\n",
    "print('\\nClassifier with best test set accuracy: %s' % grid_dict[best_classifier])"
   ]
  },
  {
   "cell_type": "code",
   "execution_count": 54,
   "metadata": {
    "ExecuteTime": {
     "end_time": "2021-03-28T20:09:17.979947Z",
     "start_time": "2021-03-28T20:09:17.961967Z"
    }
   },
   "outputs": [],
   "source": [
    "model = gs_rf.best_estimator_"
   ]
  },
  {
   "cell_type": "code",
   "execution_count": 60,
   "metadata": {
    "ExecuteTime": {
     "end_time": "2021-03-28T20:30:59.533137Z",
     "start_time": "2021-03-28T20:30:58.440767Z"
    }
   },
   "outputs": [
    {
     "data": {
      "image/png": "[encoded data removed]",
      "text/plain": [
       "<Figure size 432x288 with 1 Axes>"
      ]
     },
     "metadata": {
      "needs_background": "light"
     },
     "output_type": "display_data"
    },
    {
     "name": "stdout",
     "output_type": "stream",
     "text": [
      "95.0 confidence interval for accuracy between 84.3% and 89.5%\n"
     ]
    }
   ],
   "source": [
    "# Evaluating the model by Bootstrap\n",
    "\n",
    "y_pred = model.predict(X_test)\n",
    "scores = []\n",
    "\n",
    "# evaluate model\n",
    "df_boot = pd.DataFrame({'y_true': y_test, 'y_pred':y_pred})\n",
    "n_iterations = 1000\n",
    "n_size = int(len(df_boot) * 0.25)\n",
    "for i in range(n_iterations):\n",
    "    sample = resample(df_boot, n_samples = n_size)\n",
    "    score = accuracy_score(sample.y_true, sample.y_pred)\n",
    "    scores.append(score)\n",
    "\n",
    "plt.hist(scores)\n",
    "plt.xlim([0.7, 1])\n",
    "plt.show()\n",
    "\n",
    "# confidence intervals\n",
    "alpha = 0.95\n",
    "p = ((1.0-alpha)/2.0) * 100\n",
    "ci_lower = max(0.0, np.percentile(scores, p))\n",
    "p = (alpha+((1.0-alpha)/2.0)) * 100\n",
    "ci_upper = min(1.0, np.percentile(scores, p))\n",
    "\n",
    "print('%.1f confidence interval for accuracy between %.1f%% and %.1f%%' % (alpha*100, ci_lower*100, ci_upper*100))"
   ]
  },
  {
   "cell_type": "code",
   "execution_count": 56,
   "metadata": {
    "ExecuteTime": {
     "end_time": "2021-03-28T20:09:19.443263Z",
     "start_time": "2021-03-28T20:09:19.420323Z"
    }
   },
   "outputs": [
    {
     "name": "stdout",
     "output_type": "stream",
     "text": [
      "Classification report : \n",
      "               precision    recall  f1-score   support\n",
      "\n",
      "           1       0.77      0.47      0.58       584\n",
      "           0       0.88      0.97      0.92      2416\n",
      "\n",
      "    accuracy                           0.87      3000\n",
      "   macro avg       0.83      0.72      0.75      3000\n",
      "weighted avg       0.86      0.87      0.86      3000\n",
      "\n"
     ]
    }
   ],
   "source": [
    "# classification report for precision, recall f1-score and accuracy\n",
    "\n",
    "matrix = classification_report(y_test,y_pred,labels=[1,0])\n",
    "print('Classification report : \\n',matrix)"
   ]
  },
  {
   "cell_type": "code",
   "execution_count": 57,
   "metadata": {
    "ExecuteTime": {
     "end_time": "2021-03-28T20:09:56.759784Z",
     "start_time": "2021-03-28T20:09:56.554333Z"
    }
   },
   "outputs": [
    {
     "data": {
      "image/png": "[encoded data removed]",
      "text/plain": [
       "<Figure size 432x288 with 1 Axes>"
      ]
     },
     "metadata": {
      "needs_background": "light"
     },
     "output_type": "display_data"
    }
   ],
   "source": [
    "# ROC Curve Plot\n",
    "metrics.plot_roc_curve(model, X_test, y_test)  \n",
    ">>> plt.show()"
   ]
  }
 ],
 "metadata": {
  "kernelspec": {
   "display_name": "Python 3",
   "language": "python",
   "name": "python3"
  },
  "language_info": {
   "codemirror_mode": {
    "name": "ipython",
    "version": 3
   },
   "file_extension": ".py",
   "mimetype": "text/x-python",
   "name": "python",
   "nbconvert_exporter": "python",
   "pygments_lexer": "ipython3",
   "version": "3.8.3"
  },
  "toc": {
   "base_numbering": 1,
   "nav_menu": {},
   "number_sections": true,
   "sideBar": true,
   "skip_h1_title": false,
   "title_cell": "Table of Contents",
   "title_sidebar": "Contents",
   "toc_cell": false,
   "toc_position": {},
   "toc_section_display": true,
   "toc_window_display": false
  }
 },
 "nbformat": 4,
 "nbformat_minor": 4
}
